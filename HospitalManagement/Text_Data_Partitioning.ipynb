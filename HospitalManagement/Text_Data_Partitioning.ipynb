{
  "nbformat": 4,
  "nbformat_minor": 0,
  "metadata": {
    "colab": {
      "name": "Text_Data_Partitioning.ipynb",
      "provenance": [],
      "collapsed_sections": []
    },
    "kernelspec": {
      "display_name": "Python 3",
      "name": "python3"
    },
    "language_info": {
      "name": "python"
    }
  },
  "cells": [
    {
      "cell_type": "code",
      "metadata": {
        "colab": {
          "base_uri": "https://localhost:8080/"
        },
        "id": "TYU5iqKXfVfs",
        "outputId": "89336393-def7-4650-fdc4-d9b062a703aa"
      },
      "source": [
        "import nltk\n",
        "import random\n",
        "nltk.download('gutenberg')\n",
        "nltk.download('punkt')\n",
        "nltk.download('stopwords')\n",
        "from nltk.corpus import stopwords\n",
        "# Import pandas library\n",
        "import pandas as pd\n"
      ],
      "execution_count": null,
      "outputs": [
        {
          "output_type": "stream",
          "text": [
            "[nltk_data] Downloading package gutenberg to /root/nltk_data...\n",
            "[nltk_data]   Unzipping corpora/gutenberg.zip.\n",
            "[nltk_data] Downloading package punkt to /root/nltk_data...\n",
            "[nltk_data]   Unzipping tokenizers/punkt.zip.\n",
            "[nltk_data] Downloading package stopwords to /root/nltk_data...\n",
            "[nltk_data]   Unzipping corpora/stopwords.zip.\n"
          ],
          "name": "stdout"
        }
      ]
    },
    {
      "cell_type": "code",
      "metadata": {
        "id": "EJ_DuApQf2Ag"
      },
      "source": [
        "##########################################################\n",
        "###### without removing punctuation\n",
        "##########################################################\n",
        "def TextPartioning(text, Book_name):  \n",
        "  Partitions = []  \n",
        "  Partitions_list = []\n",
        "  tokenized_word = nltk.word_tokenize(text)\n",
        "  string = \"\"\n",
        "  cntr = 0\n",
        "# Make Sentences of 100 word\n",
        "  for i in tokenized_word:\n",
        "    string += i + \" \"\n",
        "    if cntr == 100:\n",
        "      Partitions.append(string)\n",
        "      cntr = 0\n",
        "      string = \"\"\n",
        "      continue\n",
        "    \n",
        "    cntr+=1 \n",
        "# random sample of 200 already made sentences\n",
        "  Partitions_list = random.sample(Partitions,200)\n",
        "\n",
        "  doc = \"\"\n",
        "  labeled_docs=[]\n",
        "  #append the book name to the sentence\n",
        "  for i, sent in enumerate(Partitions_list):\n",
        "    doc += sent\n",
        "    labeled_docs.append( [(doc, Book_name) ])\n",
        "    doc = \"\"\n",
        "\t\t\n",
        "  return labeled_docs\t\n",
        "\n",
        "##########################################################\n",
        "###### removing punctuation\n",
        "##########################################################\n",
        "def TextPartioning_without_punctutation(text, Book_name):  \n",
        "  Partitions = []  \n",
        "  Partitions_list = []\n",
        "  tokenized_word = nltk.word_tokenize(text)\n",
        "  words = [word for word in tokenized_word if word.isalpha()]\n",
        "\n",
        "  string = \"\"\n",
        "  cntr = 0\n",
        "  # Make Sentences of 100 word\n",
        "  for i in words:\n",
        "    string += i + \" \"\n",
        "    if cntr == 100:\n",
        "      Partitions.append(string)\n",
        "      cntr = 0\n",
        "      string = \"\"\n",
        "      continue\n",
        "    \n",
        "    cntr+=1 \n",
        "# random sample of 200 already made sentences\n",
        "  Partitions_list = random.sample(Partitions,200)\n",
        "\n",
        "  doc = \"\"\n",
        "  labeled_docs=[]\n",
        "  #append the book name to the sentence\n",
        "  for i, sent in enumerate(Partitions_list):\n",
        "    doc += sent\n",
        "    labeled_docs.append( [doc, Book_name])\n",
        "    doc = \"\"\n",
        "  \n",
        "  df = pd.DataFrame(labeled_docs, columns = ['Text', 'Book Name'])\t\n",
        "  return df\n",
        "\n"
      ],
      "execution_count": 40,
      "outputs": []
    },
    {
      "cell_type": "code",
      "metadata": {
        "id": "gDzM3gTW0q3K",
        "colab": {
          "base_uri": "https://localhost:8080/",
          "height": 436
        },
        "outputId": "386a8021-a00c-46ec-b076-21be592c6153"
      },
      "source": [
        "# Test on 5  books \n",
        "\n",
        "df_books = pd.DataFrame( columns = ['Text', 'Book Name'])\n",
        "list1 = []\n",
        "list1 = ['melville-moby_dick.txt', 'carroll-alice.txt', 'austen-sense.txt', 'edgeworth-parents.txt', 'chesterton-brown.txt']\n",
        "print(list1)\n",
        "# iterate on the 4 books and assign to each related sentences book name \n",
        "for i in list1:\n",
        "  name = i.split('.') # we need name[0] which is book name\n",
        "  # test of the function which I remove all punctuations\n",
        "  df_book = TextPartioning_without_punctutation(nltk.corpus.gutenberg.raw(i), name[0])\n",
        "  df_books = df_books.append(df_book, ignore_index=True)\n",
        "# sort according book name \n",
        "df_books = df_books.sort_values([\"Book Name\"])\n",
        "df_books"
      ],
      "execution_count": 43,
      "outputs": [
        {
          "output_type": "stream",
          "text": [
            "['melville-moby_dick.txt', 'carroll-alice.txt', 'austen-sense.txt', 'edgeworth-parents.txt', 'chesterton-brown.txt']\n"
          ],
          "name": "stdout"
        },
        {
          "output_type": "execute_result",
          "data": {
            "text/html": [
              "<div>\n",
              "<style scoped>\n",
              "    .dataframe tbody tr th:only-of-type {\n",
              "        vertical-align: middle;\n",
              "    }\n",
              "\n",
              "    .dataframe tbody tr th {\n",
              "        vertical-align: top;\n",
              "    }\n",
              "\n",
              "    .dataframe thead th {\n",
              "        text-align: right;\n",
              "    }\n",
              "</style>\n",
              "<table border=\"1\" class=\"dataframe\">\n",
              "  <thead>\n",
              "    <tr style=\"text-align: right;\">\n",
              "      <th></th>\n",
              "      <th>Text</th>\n",
              "      <th>Book Name</th>\n",
              "    </tr>\n",
              "  </thead>\n",
              "  <tbody>\n",
              "    <tr>\n",
              "      <th>499</th>\n",
              "      <td>as every feeling must end with her by carrying...</td>\n",
              "      <td>austen-sense</td>\n",
              "    </tr>\n",
              "    <tr>\n",
              "      <th>470</th>\n",
              "      <td>my power as my taking them out this evening sh...</td>\n",
              "      <td>austen-sense</td>\n",
              "    </tr>\n",
              "    <tr>\n",
              "      <th>469</th>\n",
              "      <td>the three ladies unanimous in their sentiments...</td>\n",
              "      <td>austen-sense</td>\n",
              "    </tr>\n",
              "    <tr>\n",
              "      <th>468</th>\n",
              "      <td>not without an effort the restless unquiet tho...</td>\n",
              "      <td>austen-sense</td>\n",
              "    </tr>\n",
              "    <tr>\n",
              "      <th>467</th>\n",
              "      <td>right And I suppose you had no great difficult...</td>\n",
              "      <td>austen-sense</td>\n",
              "    </tr>\n",
              "    <tr>\n",
              "      <th>...</th>\n",
              "      <td>...</td>\n",
              "      <td>...</td>\n",
              "    </tr>\n",
              "    <tr>\n",
              "      <th>129</th>\n",
              "      <td>of junction with its broad flukes or lobes If ...</td>\n",
              "      <td>melville-moby_dick</td>\n",
              "    </tr>\n",
              "    <tr>\n",
              "      <th>128</th>\n",
              "      <td>puff after puff from the mouth of the excited ...</td>\n",
              "      <td>melville-moby_dick</td>\n",
              "    </tr>\n",
              "    <tr>\n",
              "      <th>127</th>\n",
              "      <td>end of it the foot part what a small sort of e...</td>\n",
              "      <td>melville-moby_dick</td>\n",
              "    </tr>\n",
              "    <tr>\n",
              "      <th>137</th>\n",
              "      <td>a Nantucketer he knew But no formal salutation...</td>\n",
              "      <td>melville-moby_dick</td>\n",
              "    </tr>\n",
              "    <tr>\n",
              "      <th>0</th>\n",
              "      <td>he thrust both hands in and drew out handfuls ...</td>\n",
              "      <td>melville-moby_dick</td>\n",
              "    </tr>\n",
              "  </tbody>\n",
              "</table>\n",
              "<p>1000 rows × 2 columns</p>\n",
              "</div>"
            ],
            "text/plain": [
              "                                                  Text           Book Name\n",
              "499  as every feeling must end with her by carrying...        austen-sense\n",
              "470  my power as my taking them out this evening sh...        austen-sense\n",
              "469  the three ladies unanimous in their sentiments...        austen-sense\n",
              "468  not without an effort the restless unquiet tho...        austen-sense\n",
              "467  right And I suppose you had no great difficult...        austen-sense\n",
              "..                                                 ...                 ...\n",
              "129  of junction with its broad flukes or lobes If ...  melville-moby_dick\n",
              "128  puff after puff from the mouth of the excited ...  melville-moby_dick\n",
              "127  end of it the foot part what a small sort of e...  melville-moby_dick\n",
              "137  a Nantucketer he knew But no formal salutation...  melville-moby_dick\n",
              "0    he thrust both hands in and drew out handfuls ...  melville-moby_dick\n",
              "\n",
              "[1000 rows x 2 columns]"
            ]
          },
          "metadata": {
            "tags": []
          },
          "execution_count": 43
        }
      ]
    }
  ]
}